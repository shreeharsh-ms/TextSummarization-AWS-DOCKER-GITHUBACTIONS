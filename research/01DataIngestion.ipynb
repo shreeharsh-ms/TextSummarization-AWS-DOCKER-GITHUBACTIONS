{
 "cells": [
  {
   "cell_type": "code",
   "execution_count": 1,
   "id": "2e53bba8",
   "metadata": {},
   "outputs": [
    {
     "data": {
      "text/plain": [
       "'/Users/shreeharshmshivpuje/MLpr/TEXTTextSummarization-AWS-DOCKER-GITHUBACTIONS/TextSummarization-AWS-DOCKER-GITHUBACTIONS/research'"
      ]
     },
     "execution_count": 1,
     "metadata": {},
     "output_type": "execute_result"
    }
   ],
   "source": [
    "%pwd"
   ]
  },
  {
   "cell_type": "code",
   "execution_count": 2,
   "id": "4e67ccc0",
   "metadata": {},
   "outputs": [],
   "source": [
    "import os\n",
    "os.chdir('../')"
   ]
  },
  {
   "cell_type": "code",
   "execution_count": 3,
   "id": "097c2f75",
   "metadata": {},
   "outputs": [
    {
     "data": {
      "text/plain": [
       "'/Users/shreeharshmshivpuje/MLpr/TEXTTextSummarization-AWS-DOCKER-GITHUBACTIONS/TextSummarization-AWS-DOCKER-GITHUBACTIONS'"
      ]
     },
     "execution_count": 3,
     "metadata": {},
     "output_type": "execute_result"
    }
   ],
   "source": [
    "%pwd"
   ]
  },
  {
   "cell_type": "code",
   "execution_count": 4,
   "id": "36c22cea",
   "metadata": {},
   "outputs": [
    {
     "name": "stdout",
     "output_type": "stream",
     "text": [
      "\u001b[33mWARNING: Skipping box as it is not installed.\u001b[0m\u001b[33m\n",
      "\u001b[0mFound existing installation: python-box 6.0.2\n",
      "Uninstalling python-box-6.0.2:\n",
      "  Successfully uninstalled python-box-6.0.2\n",
      "Collecting python-box==6.0.2\n",
      "  Using cached python_box-6.0.2-py3-none-any.whl.metadata (7.7 kB)\n",
      "Using cached python_box-6.0.2-py3-none-any.whl (26 kB)\n",
      "Installing collected packages: python-box\n",
      "Successfully installed python-box-6.0.2\n",
      "Name: python-box\n",
      "Version: 6.0.2\n",
      "Summary: Advanced Python dictionaries with dot notation access\n",
      "Home-page: https://github.com/cdgriffith/Box\n",
      "Author: Chris Griffith\n",
      "Author-email: chris@cdgriffith.com\n",
      "License: MIT\n",
      "Location: /Users/shreeharshmshivpuje/MLpr/TEXTTextSummarization-AWS-DOCKER-GITHUBACTIONS/TextSummarization-AWS-DOCKER-GITHUBACTIONS/venv/lib/python3.11/site-packages\n",
      "Requires: \n",
      "Required-by: \n"
     ]
    }
   ],
   "source": [
    "!pip uninstall -y box python-box\n",
    "!pip install python-box==6.0.2\n",
    "!pip show python-box\n"
   ]
  },
  {
   "cell_type": "code",
   "execution_count": 4,
   "id": "5465c8e0",
   "metadata": {},
   "outputs": [],
   "source": [
    "from dataclasses import dataclass\n",
    "from pathlib import Path\n",
    "\n",
    "@dataclass(frozen=True)\n",
    "class DataIngestionConfig:\n",
    "    root_dir: Path\n",
    "    source_URL: str\n",
    "    local_data_file: Path\n",
    "    unzip_dir: Path"
   ]
  },
  {
   "cell_type": "code",
   "execution_count": 5,
   "id": "d3789733",
   "metadata": {},
   "outputs": [
    {
     "name": "stdout",
     "output_type": "stream",
     "text": [
      "2025-09-14 10:18:18,641 - text_summarization_logger - INFO - Logger has been configured. - __init__\n"
     ]
    }
   ],
   "source": [
    "from textsummarization_aws_docker_githubactions.constants import CONFIG_FILE_PATH, PARAMS_FILE_PATH\n",
    "\n",
    "from textsummarization_aws_docker_githubactions.utils.common import read_yaml_file, create_directory\n",
    "\n"
   ]
  },
  {
   "cell_type": "code",
   "execution_count": 6,
   "id": "e4543c19",
   "metadata": {},
   "outputs": [
    {
     "name": "stdout",
     "output_type": "stream",
     "text": [
      "/Users/shreeharshmshivpuje/MLpr/TEXTTextSummarization-AWS-DOCKER-GITHUBACTIONS/TextSummarization-AWS-DOCKER-GITHUBACTIONS/venv/lib/python3.11/site-packages/box/__init__.py\n"
     ]
    }
   ],
   "source": [
    "import box\n",
    "print(box.__file__)  # Shows the path to the python-box package\n",
    "from box import Box  # Should work now\n"
   ]
  },
  {
   "cell_type": "code",
   "execution_count": 7,
   "id": "dccede96",
   "metadata": {},
   "outputs": [
    {
     "data": {
      "text/plain": [
       "PosixPath('config/config.yaml')"
      ]
     },
     "execution_count": 7,
     "metadata": {},
     "output_type": "execute_result"
    }
   ],
   "source": [
    "PARAMS_FILE_PATH\n",
    "CONFIG_FILE_PATH"
   ]
  },
  {
   "cell_type": "code",
   "execution_count": null,
   "id": "2831dd25",
   "metadata": {},
   "outputs": [],
   "source": [
    "class configrationManeger:\n",
    "    def __init__(self,\n",
    "                 config_filepath = CONFIG_FILE_PATH,\n",
    "                 params_filepath = PARAMS_FILE_PATH):\n",
    "        \n",
    "        self.config = read_yaml_file(config_filepath)\n",
    "        # self.params = read_yaml_file(params_filepath)\n",
    "\n",
    "        create_directory([self.config.artifacts_root])\n",
    "    \n",
    "    def get_data_ingestion_config(self) -> DataIngestionConfig:\n",
    "        config = self.config.data_ingestion\n",
    "        \n",
    "        create_directory([config.root_dir])\n",
    "        \n",
    "        data_ingestion_config = DataIngestionConfig(\n",
    "            root_dir = config.root_dir,\n",
    "            source_URL = config.source_URL,\n",
    "            local_data_file = config.local_data_file,\n",
    "            unzip_dir = config.unzip_dir\n",
    "        )\n",
    "        \n",
    "        return data_ingestion_config"
   ]
  },
  {
   "cell_type": "code",
   "execution_count": 9,
   "id": "c4692f75",
   "metadata": {},
   "outputs": [],
   "source": [
    "import os\n",
    "from urllib import request\n",
    "from zipfile import ZipFile\n",
    "from textsummarization_aws_docker_githubactions.logging import logger\n",
    "from textsummarization_aws_docker_githubactions.utils.common import get_size_of_file"
   ]
  },
  {
   "cell_type": "code",
   "execution_count": 10,
   "id": "a25bf2d4",
   "metadata": {},
   "outputs": [],
   "source": [
    "import tqdm\n",
    "\n",
    "class DataIngestion:\n",
    "    def __init__(self, config: DataIngestionConfig):\n",
    "        self.config = config\n",
    "        \n",
    "    def download_file(self) -> Path:\n",
    "        if not os.path.exists(self.config.local_data_file):\n",
    "            filename, headers = request.urlretrieve(\n",
    "                url = self.config.source_URL,\n",
    "                filename = self.config.local_data_file\n",
    "            )\n",
    "            logger.info(f\"{filename} downloaded! with following info: \\n{headers}\")\n",
    "        else:\n",
    "            logger.info(f\"File already exists of size: {get_size_of_file(Path(self.config.local_data_file))}\")\n",
    "        \n",
    "        return Path(self.config.local_data_file)\n",
    "    \n",
    "    def unzip_and_clean(self, zip_file_path: Path) -> None:\n",
    "        logger.info(f\"Unzipping file: {zip_file_path} into dir: {self.config.unzip_dir}\")\n",
    "        with ZipFile(zip_file_path, 'r') as zip_ref:\n",
    "            for file in tqdm.tqdm(iterable=zip_ref.namelist(), total=len(zip_ref.namelist())):\n",
    "                zip_ref.extract(member=file, path=self.config.unzip_dir)\n",
    "        logger.info(f\"Unzipping completed!\")\n",
    "        \n",
    "        # removing zip file\n",
    "        os.remove(zip_file_path)\n",
    "        logger.info(f\"Removed zip file: {zip_file_path} after extraction\")\n",
    "        \n",
    "    def initiate_data_ingestion(self) -> Path:\n",
    "        zip_file_path = self.download_file()\n",
    "        self.unzip_and_clean(zip_file_path=zip_file_path)\n",
    "        \n",
    "        return self.config.unzip_dir"
   ]
  },
  {
   "cell_type": "code",
   "execution_count": 20,
   "id": "58d18176",
   "metadata": {},
   "outputs": [
    {
     "ename": "NameError",
     "evalue": "name 'params_filepath' is not defined",
     "output_type": "error",
     "traceback": [
      "\u001b[31m---------------------------------------------------------------------------\u001b[39m",
      "\u001b[31mNameError\u001b[39m                                 Traceback (most recent call last)",
      "\u001b[36mCell\u001b[39m\u001b[36m \u001b[39m\u001b[32mIn[20]\u001b[39m\u001b[32m, line 1\u001b[39m\n\u001b[32m----> \u001b[39m\u001b[32m1\u001b[39m params = read_yaml_file(params_filepath)\n\u001b[32m      2\u001b[39m \u001b[38;5;28mprint\u001b[39m(\u001b[33m\"\u001b[39m\u001b[33mParams content:\u001b[39m\u001b[33m\"\u001b[39m, params, \u001b[38;5;28mtype\u001b[39m(params))\n",
      "\u001b[31mNameError\u001b[39m: name 'params_filepath' is not defined"
     ]
    }
   ],
   "source": [
    "params = read_yaml_file(params_filepath)\n",
    "print(\"Params content:\", params, type(params))\n"
   ]
  },
  {
   "cell_type": "code",
   "execution_count": 13,
   "id": "c9b1270d",
   "metadata": {},
   "outputs": [
    {
     "ename": "BoxKeyError",
     "evalue": "\"'Box' object has no attribute 'root_dir'\"",
     "output_type": "error",
     "traceback": [
      "\u001b[31m---------------------------------------------------------------------------\u001b[39m",
      "\u001b[31mKeyError\u001b[39m                                  Traceback (most recent call last)",
      "\u001b[36mFile \u001b[39m\u001b[32m~/MLpr/TEXTTextSummarization-AWS-DOCKER-GITHUBACTIONS/TextSummarization-AWS-DOCKER-GITHUBACTIONS/venv/lib/python3.11/site-packages/box/box.py:503\u001b[39m, in \u001b[36mBox.__getitem__\u001b[39m\u001b[34m(self, item, _ignore_default)\u001b[39m\n\u001b[32m    502\u001b[39m \u001b[38;5;28;01mtry\u001b[39;00m:\n\u001b[32m--> \u001b[39m\u001b[32m503\u001b[39m     \u001b[38;5;28;01mreturn\u001b[39;00m \u001b[38;5;28msuper\u001b[39m().\u001b[34m__getitem__\u001b[39m(item)\n\u001b[32m    504\u001b[39m \u001b[38;5;28;01mexcept\u001b[39;00m \u001b[38;5;167;01mKeyError\u001b[39;00m \u001b[38;5;28;01mas\u001b[39;00m err:\n",
      "\u001b[31mKeyError\u001b[39m: 'root_dir'",
      "\nThe above exception was the direct cause of the following exception:\n",
      "\u001b[31mBoxKeyError\u001b[39m                               Traceback (most recent call last)",
      "\u001b[36mFile \u001b[39m\u001b[32m~/MLpr/TEXTTextSummarization-AWS-DOCKER-GITHUBACTIONS/TextSummarization-AWS-DOCKER-GITHUBACTIONS/venv/lib/python3.11/site-packages/box/box.py:536\u001b[39m, in \u001b[36mBox.__getattr__\u001b[39m\u001b[34m(self, item)\u001b[39m\n\u001b[32m    535\u001b[39m \u001b[38;5;28;01mtry\u001b[39;00m:\n\u001b[32m--> \u001b[39m\u001b[32m536\u001b[39m     value = \u001b[38;5;28mself\u001b[39m.\u001b[34m__getitem__\u001b[39m(item, _ignore_default=\u001b[38;5;28;01mTrue\u001b[39;00m)\n\u001b[32m    537\u001b[39m \u001b[38;5;28;01mexcept\u001b[39;00m \u001b[38;5;167;01mKeyError\u001b[39;00m:\n",
      "\u001b[36mFile \u001b[39m\u001b[32m~/MLpr/TEXTTextSummarization-AWS-DOCKER-GITHUBACTIONS/TextSummarization-AWS-DOCKER-GITHUBACTIONS/venv/lib/python3.11/site-packages/box/box.py:524\u001b[39m, in \u001b[36mBox.__getitem__\u001b[39m\u001b[34m(self, item, _ignore_default)\u001b[39m\n\u001b[32m    523\u001b[39m         \u001b[38;5;28;01mreturn\u001b[39;00m \u001b[38;5;28mself\u001b[39m.__get_default(item)\n\u001b[32m--> \u001b[39m\u001b[32m524\u001b[39m     \u001b[38;5;28;01mraise\u001b[39;00m BoxKeyError(\u001b[38;5;28mstr\u001b[39m(err)) \u001b[38;5;28;01mfrom\u001b[39;00m\u001b[38;5;250m \u001b[39m\u001b[34;01m_exception_cause\u001b[39;00m(err)\n\u001b[32m    525\u001b[39m \u001b[38;5;28;01mexcept\u001b[39;00m \u001b[38;5;167;01mTypeError\u001b[39;00m \u001b[38;5;28;01mas\u001b[39;00m err:\n",
      "\u001b[31mBoxKeyError\u001b[39m: \"'root_dir'\"",
      "\nDuring handling of the above exception, another exception occurred:\n",
      "\u001b[31mAttributeError\u001b[39m                            Traceback (most recent call last)",
      "\u001b[36mFile \u001b[39m\u001b[32m~/MLpr/TEXTTextSummarization-AWS-DOCKER-GITHUBACTIONS/TextSummarization-AWS-DOCKER-GITHUBACTIONS/venv/lib/python3.11/site-packages/box/box.py:538\u001b[39m, in \u001b[36mBox.__getattr__\u001b[39m\u001b[34m(self, item)\u001b[39m\n\u001b[32m    537\u001b[39m     \u001b[38;5;28;01mexcept\u001b[39;00m \u001b[38;5;167;01mKeyError\u001b[39;00m:\n\u001b[32m--> \u001b[39m\u001b[32m538\u001b[39m         value = \u001b[38;5;28mobject\u001b[39m.\u001b[34m__getattribute__\u001b[39m(\u001b[38;5;28mself\u001b[39m, item)\n\u001b[32m    539\u001b[39m \u001b[38;5;28;01mexcept\u001b[39;00m \u001b[38;5;167;01mAttributeError\u001b[39;00m \u001b[38;5;28;01mas\u001b[39;00m err:\n",
      "\u001b[31mAttributeError\u001b[39m: 'Box' object has no attribute 'root_dir'",
      "\nThe above exception was the direct cause of the following exception:\n",
      "\u001b[31mBoxKeyError\u001b[39m                               Traceback (most recent call last)",
      "\u001b[36mCell\u001b[39m\u001b[36m \u001b[39m\u001b[32mIn[13]\u001b[39m\u001b[32m, line 12\u001b[39m\n\u001b[32m     10\u001b[39m     \u001b[38;5;28mprint\u001b[39m(\u001b[33mf\u001b[39m\u001b[33m\"\u001b[39m\u001b[33mData ingested at: \u001b[39m\u001b[38;5;132;01m{\u001b[39;00munzip_dir\u001b[38;5;132;01m}\u001b[39;00m\u001b[33m\"\u001b[39m)\n\u001b[32m     11\u001b[39m \u001b[38;5;28;01mexcept\u001b[39;00m \u001b[38;5;167;01mException\u001b[39;00m \u001b[38;5;28;01mas\u001b[39;00m e:\n\u001b[32m---> \u001b[39m\u001b[32m12\u001b[39m     \u001b[38;5;28;01mraise\u001b[39;00m e\n",
      "\u001b[36mCell\u001b[39m\u001b[36m \u001b[39m\u001b[32mIn[13]\u001b[39m\u001b[32m, line 2\u001b[39m\n\u001b[32m      1\u001b[39m \u001b[38;5;28;01mtry\u001b[39;00m:\n\u001b[32m----> \u001b[39m\u001b[32m2\u001b[39m     config = configrationManeger()\n\u001b[32m      3\u001b[39m     data_ingestion_config = config.get_data_ingestion_config()\n\u001b[32m      5\u001b[39m     \u001b[38;5;28mprint\u001b[39m(data_ingestion_config)\n",
      "\u001b[36mCell\u001b[39m\u001b[36m \u001b[39m\u001b[32mIn[12]\u001b[39m\u001b[32m, line 9\u001b[39m, in \u001b[36mconfigrationManeger.__init__\u001b[39m\u001b[34m(self, config_filepath, params_filepath)\u001b[39m\n\u001b[32m      6\u001b[39m \u001b[38;5;28mself\u001b[39m.config = read_yaml_file(config_filepath)\n\u001b[32m      7\u001b[39m \u001b[38;5;66;03m# self.params = read_yaml_file(params_filepath)\u001b[39;00m\n\u001b[32m----> \u001b[39m\u001b[32m9\u001b[39m create_directory([\u001b[38;5;28mself\u001b[39m.config.root_dir])\n",
      "\u001b[36mFile \u001b[39m\u001b[32m~/MLpr/TEXTTextSummarization-AWS-DOCKER-GITHUBACTIONS/TextSummarization-AWS-DOCKER-GITHUBACTIONS/venv/lib/python3.11/site-packages/box/box.py:552\u001b[39m, in \u001b[36mBox.__getattr__\u001b[39m\u001b[34m(self, item)\u001b[39m\n\u001b[32m    550\u001b[39m             \u001b[38;5;28;01mraise\u001b[39;00m BoxKeyError(\u001b[33mf\u001b[39m\u001b[33m\"\u001b[39m\u001b[38;5;132;01m{\u001b[39;00mitem\u001b[38;5;132;01m}\u001b[39;00m\u001b[33m: Does not exist and internal methods are never defaulted\u001b[39m\u001b[33m\"\u001b[39m)\n\u001b[32m    551\u001b[39m         \u001b[38;5;28;01mreturn\u001b[39;00m \u001b[38;5;28mself\u001b[39m.__get_default(item, attr=\u001b[38;5;28;01mTrue\u001b[39;00m)\n\u001b[32m--> \u001b[39m\u001b[32m552\u001b[39m     \u001b[38;5;28;01mraise\u001b[39;00m BoxKeyError(\u001b[38;5;28mstr\u001b[39m(err)) \u001b[38;5;28;01mfrom\u001b[39;00m\u001b[38;5;250m \u001b[39m\u001b[34;01m_exception_cause\u001b[39;00m(err)\n\u001b[32m    553\u001b[39m \u001b[38;5;28;01mreturn\u001b[39;00m value\n",
      "\u001b[31mBoxKeyError\u001b[39m: \"'Box' object has no attribute 'root_dir'\""
     ]
    }
   ],
   "source": [
    "try:\n",
    "    config = configrationManeger()\n",
    "    data_ingestion_config = config.get_data_ingestion_config()\n",
    "    \n",
    "    print(data_ingestion_config)\n",
    "    \n",
    "    data_ingestion = DataIngestion(config=data_ingestion_config)\n",
    "    unzip_dir = data_ingestion.initiate_data_ingestion()\n",
    "    \n",
    "    print(f\"Data ingested at: {unzip_dir}\")\n",
    "except Exception as e:\n",
    "    raise e"
   ]
  }
 ],
 "metadata": {
  "kernelspec": {
   "display_name": "venv",
   "language": "python",
   "name": "python3"
  },
  "language_info": {
   "codemirror_mode": {
    "name": "ipython",
    "version": 3
   },
   "file_extension": ".py",
   "mimetype": "text/x-python",
   "name": "python",
   "nbconvert_exporter": "python",
   "pygments_lexer": "ipython3",
   "version": "3.11.13"
  }
 },
 "nbformat": 4,
 "nbformat_minor": 5
}
